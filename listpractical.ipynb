{
 "cells": [
  {
   "cell_type": "code",
   "execution_count": 1,
   "id": "400a60af-bdfd-4e1f-968b-9052907b7b74",
   "metadata": {
    "tags": []
   },
   "outputs": [],
   "source": [
    "lst1=[\"a\",\"b\",\"c\",\"d\",\"e\",\"f\",\"g\",\"h\",\"i\",\"j\",\"k\",\"l\",\"m\",\"n\",\"o\",\"p\",\"q\",\"r\",\"s\",\"t\"]\n",
    "lat2=list(range(20))\n"
   ]
  },
  {
   "cell_type": "code",
   "execution_count": 2,
   "id": "08755cdf-cc21-423d-91f3-12063d281b98",
   "metadata": {
    "tags": []
   },
   "outputs": [
    {
     "name": "stdout",
     "output_type": "stream",
     "text": [
      "[0, 1, 2, 3, 4, 5, 6, 7, 8, 9, 10, 11, 12, 13, 14, 15, 16, 17, 18, 19]\n"
     ]
    }
   ],
   "source": [
    "print(lat2)\n"
   ]
  },
  {
   "cell_type": "code",
   "execution_count": 3,
   "id": "100eb57a-e5ed-45cc-b337-3256844d1ae4",
   "metadata": {
    "tags": []
   },
   "outputs": [],
   "source": [
    "lat2[11]='cspit'\n"
   ]
  },
  {
   "cell_type": "code",
   "execution_count": 4,
   "id": "69708543-59ff-46e1-8390-c4fb96a6617d",
   "metadata": {
    "tags": []
   },
   "outputs": [
    {
     "name": "stdout",
     "output_type": "stream",
     "text": [
      "[0, 1, 2, 3, 4, 5, 6, 7, 8, 9, 10, 'cspit', 12, 13, 14, 15, 16, 17, 18, 19]\n"
     ]
    }
   ],
   "source": [
    "print(lat2)\n"
   ]
  },
  {
   "cell_type": "code",
   "execution_count": 5,
   "id": "13c9bca0-6a25-4617-b0a6-a8130ef3f238",
   "metadata": {
    "tags": []
   },
   "outputs": [
    {
     "data": {
      "text/plain": [
       "[2, 6, 10, 14]"
      ]
     },
     "execution_count": 5,
     "metadata": {},
     "output_type": "execute_result"
    }
   ],
   "source": [
    "lat2[2:15:4]\n"
   ]
  },
  {
   "cell_type": "code",
   "execution_count": 6,
   "id": "51a149eb-c166-4610-9adf-1bbc0f260cb4",
   "metadata": {
    "tags": []
   },
   "outputs": [
    {
     "data": {
      "text/plain": [
       "[14, 10, 6, 2]"
      ]
     },
     "execution_count": 6,
     "metadata": {},
     "output_type": "execute_result"
    }
   ],
   "source": [
    "lat2[14:1:-4]"
   ]
  },
  {
   "cell_type": "code",
   "execution_count": 7,
   "id": "ec289d79-c61e-49e8-a753-f8bdeb957c6d",
   "metadata": {
    "tags": []
   },
   "outputs": [
    {
     "data": {
      "text/plain": [
       "[14, 10, 6, 2]"
      ]
     },
     "execution_count": 7,
     "metadata": {},
     "output_type": "execute_result"
    }
   ],
   "source": [
    "lat2[-6:-19:-4]"
   ]
  },
  {
   "cell_type": "code",
   "execution_count": 8,
   "id": "b29dae66-fd33-48d5-aa81-c33d4701a02b",
   "metadata": {
    "tags": []
   },
   "outputs": [],
   "source": [
    "lat2.append(300)\n",
    "lat2.append(400)\n",
    "lat2.append(500)"
   ]
  },
  {
   "cell_type": "code",
   "execution_count": 9,
   "id": "924e96d2-fd99-4bbc-a41b-aeb397935993",
   "metadata": {
    "tags": []
   },
   "outputs": [
    {
     "name": "stdout",
     "output_type": "stream",
     "text": [
      "[0, 1, 2, 3, 4, 5, 6, 7, 8, 9, 10, 'cspit', 12, 13, 14, 15, 16, 17, 18, 19, 300, 400, 500]\n"
     ]
    }
   ],
   "source": [
    "print(lat2)"
   ]
  },
  {
   "cell_type": "code",
   "execution_count": 10,
   "id": "a74d2d7f-69b9-4a74-8903-b4a41fe5fa26",
   "metadata": {
    "tags": []
   },
   "outputs": [],
   "source": [
    "lat2=lat2+[600,700,800]\n"
   ]
  },
  {
   "cell_type": "code",
   "execution_count": 11,
   "id": "05ae0b6f-a331-43a0-a38b-22327762d377",
   "metadata": {
    "tags": []
   },
   "outputs": [
    {
     "name": "stdout",
     "output_type": "stream",
     "text": [
      "[0, 1, 2, 3, 4, 5, 6, 7, 8, 9, 10, 'cspit', 12, 13, 14, 15, 16, 17, 18, 19, 300, 400, 500, 600, 700, 800]\n"
     ]
    }
   ],
   "source": [
    "print(lat2)"
   ]
  },
  {
   "cell_type": "code",
   "execution_count": 12,
   "id": "8d747fb9-21a1-4a09-a5f7-d446e13bba36",
   "metadata": {
    "tags": []
   },
   "outputs": [
    {
     "name": "stdout",
     "output_type": "stream",
     "text": [
      "[0, 1, 2, 3, 4, 5, 'charusat', 6, 7, 8, 9, 10, 'cspit', 12, 13, 14, 15, 16, 17, 18, 19, 300, 400, 500, 600, 700, 800]\n"
     ]
    }
   ],
   "source": [
    "lat2.insert(6,'charusat')\n",
    "print(lat2)"
   ]
  },
  {
   "cell_type": "code",
   "execution_count": 13,
   "id": "d26a1888-3049-402f-8471-d776f1e25da5",
   "metadata": {
    "tags": []
   },
   "outputs": [],
   "source": [
    "lat2.remove('cspit')"
   ]
  },
  {
   "cell_type": "code",
   "execution_count": 14,
   "id": "a75ca5cd-fdc8-4241-9aab-92d6fafda405",
   "metadata": {
    "tags": []
   },
   "outputs": [
    {
     "name": "stdout",
     "output_type": "stream",
     "text": [
      "[0, 1, 2, 3, 4, 5, 'charusat', 6, 7, 8, 9, 10, 12, 13, 14, 15, 16, 17, 18, 19, 300, 400, 500, 600, 700, 800]\n"
     ]
    }
   ],
   "source": [
    "print(lat2)"
   ]
  },
  {
   "cell_type": "code",
   "execution_count": 15,
   "id": "d3f083fa-707f-4c8c-a1b4-d237cb5883b7",
   "metadata": {
    "tags": []
   },
   "outputs": [
    {
     "name": "stdout",
     "output_type": "stream",
     "text": [
      "[0, 1, 2, 3, 4, 'charusat', 6, 7, 8, 9, 10, 12, 13, 14, 15, 16, 17, 18, 19, 300, 400, 500, 600, 700]\n"
     ]
    }
   ],
   "source": [
    "lat2.pop()\n",
    "del lat2[5]\n",
    "print(lat2)"
   ]
  },
  {
   "cell_type": "code",
   "execution_count": 16,
   "id": "21d884fe-e41d-4f37-aaa2-a7fb2b349880",
   "metadata": {
    "tags": []
   },
   "outputs": [
    {
     "ename": "ValueError",
     "evalue": "too many values to unpack (expected 3)",
     "output_type": "error",
     "traceback": [
      "\u001b[1;31m---------------------------------------------------------------------------\u001b[0m",
      "\u001b[1;31mValueError\u001b[0m                                Traceback (most recent call last)",
      "Cell \u001b[1;32mIn[16], line 1\u001b[0m\n\u001b[1;32m----> 1\u001b[0m a,b,c\u001b[38;5;241m=\u001b[39mlat2\n",
      "\u001b[1;31mValueError\u001b[0m: too many values to unpack (expected 3)"
     ]
    }
   ],
   "source": [
    "a,b,c=lat2"
   ]
  },
  {
   "cell_type": "code",
   "execution_count": 17,
   "id": "37c1cc3f-3028-4e55-94ce-0961715955e1",
   "metadata": {
    "tags": []
   },
   "outputs": [
    {
     "ename": "SyntaxError",
     "evalue": "'tuple' is an illegal expression for augmented assignment (2564493905.py, line 1)",
     "output_type": "error",
     "traceback": [
      "\u001b[1;36m  Cell \u001b[1;32mIn[17], line 1\u001b[1;36m\u001b[0m\n\u001b[1;33m    a,b,c*=lat2\u001b[0m\n\u001b[1;37m    ^\u001b[0m\n\u001b[1;31mSyntaxError\u001b[0m\u001b[1;31m:\u001b[0m 'tuple' is an illegal expression for augmented assignment\n"
     ]
    }
   ],
   "source": [
    "a,b,c*=lat2"
   ]
  },
  {
   "cell_type": "code",
   "execution_count": 18,
   "id": "f45ad7d7-a4a5-43a6-8ca9-c788b76887b5",
   "metadata": {
    "tags": []
   },
   "outputs": [],
   "source": [
    "a,b,*c=lat2"
   ]
  },
  {
   "cell_type": "code",
   "execution_count": 19,
   "id": "f87bf308-8274-4c07-afd5-88747c5f0b64",
   "metadata": {
    "tags": []
   },
   "outputs": [
    {
     "name": "stdout",
     "output_type": "stream",
     "text": [
      "0 1 [2, 3, 4, 'charusat', 6, 7, 8, 9, 10, 12, 13, 14, 15, 16, 17, 18, 19, 300, 400, 500, 600, 700]\n"
     ]
    }
   ],
   "source": [
    "print(a,b,c)"
   ]
  },
  {
   "cell_type": "code",
   "execution_count": 20,
   "id": "8e3fbcbb-d0f6-4809-962b-3d5ea5f335cc",
   "metadata": {
    "tags": []
   },
   "outputs": [],
   "source": [
    "a,b,*c,d,e=lat2"
   ]
  },
  {
   "cell_type": "code",
   "execution_count": 21,
   "id": "fc100473-e593-41cc-8769-5b4a89aecc0a",
   "metadata": {
    "tags": []
   },
   "outputs": [
    {
     "name": "stdout",
     "output_type": "stream",
     "text": [
      "0 1 [2, 3, 4, 'charusat', 6, 7, 8, 9, 10, 12, 13, 14, 15, 16, 17, 18, 19, 300, 400, 500] 600 700\n"
     ]
    }
   ],
   "source": [
    "print(a,b,c,d,e)"
   ]
  },
  {
   "cell_type": "code",
   "execution_count": 22,
   "id": "2e12ba43-1e09-4f06-8444-5763cfd9633d",
   "metadata": {
    "tags": []
   },
   "outputs": [
    {
     "name": "stdout",
     "output_type": "stream",
     "text": [
      "19\n",
      "1\n"
     ]
    }
   ],
   "source": [
    "print(lat2.index(300))\n",
    "print(lat2.count(3))"
   ]
  },
  {
   "cell_type": "code",
   "execution_count": 23,
   "id": "20cd3902-2640-4d4b-b05a-39b52ff2e095",
   "metadata": {
    "tags": []
   },
   "outputs": [
    {
     "ename": "NameError",
     "evalue": "name 'reverse' is not defined",
     "output_type": "error",
     "traceback": [
      "\u001b[1;31m---------------------------------------------------------------------------\u001b[0m",
      "\u001b[1;31mNameError\u001b[0m                                 Traceback (most recent call last)",
      "Cell \u001b[1;32mIn[23], line 1\u001b[0m\n\u001b[1;32m----> 1\u001b[0m lat2,reverse()\n",
      "\u001b[1;31mNameError\u001b[0m: name 'reverse' is not defined"
     ]
    }
   ],
   "source": [
    "lat2,reverse()"
   ]
  },
  {
   "cell_type": "code",
   "execution_count": 24,
   "id": "670a6660-fb84-4562-8f6e-3477ebdae155",
   "metadata": {
    "tags": []
   },
   "outputs": [
    {
     "name": "stdout",
     "output_type": "stream",
     "text": [
      "[700, 600, 500, 400, 300, 19, 18, 17, 16, 15, 14, 13, 12, 10, 9, 8, 7, 6, 'charusat', 4, 3, 2, 1, 0]\n"
     ]
    }
   ],
   "source": [
    "lat2.reverse()\n",
    "print(lat2)"
   ]
  },
  {
   "cell_type": "code",
   "execution_count": 25,
   "id": "f4d2943c-88ba-4653-ae87-a026fb018c62",
   "metadata": {
    "tags": []
   },
   "outputs": [
    {
     "ename": "TypeError",
     "evalue": "'<' not supported between instances of 'str' and 'int'",
     "output_type": "error",
     "traceback": [
      "\u001b[1;31m---------------------------------------------------------------------------\u001b[0m",
      "\u001b[1;31mTypeError\u001b[0m                                 Traceback (most recent call last)",
      "Cell \u001b[1;32mIn[25], line 1\u001b[0m\n\u001b[1;32m----> 1\u001b[0m lat2\u001b[38;5;241m.\u001b[39msort()\n\u001b[0;32m      2\u001b[0m \u001b[38;5;28mprint\u001b[39m(lat2)\n",
      "\u001b[1;31mTypeError\u001b[0m: '<' not supported between instances of 'str' and 'int'"
     ]
    }
   ],
   "source": [
    "lat2.sort()\n",
    "print(lat2)"
   ]
  },
  {
   "cell_type": "code",
   "execution_count": 26,
   "id": "b7a92308-9bbe-43b0-961c-326df118f28f",
   "metadata": {
    "tags": []
   },
   "outputs": [
    {
     "ename": "TypeError",
     "evalue": "'<' not supported between instances of 'str' and 'int'",
     "output_type": "error",
     "traceback": [
      "\u001b[1;31m---------------------------------------------------------------------------\u001b[0m",
      "\u001b[1;31mTypeError\u001b[0m                                 Traceback (most recent call last)",
      "Cell \u001b[1;32mIn[26], line 1\u001b[0m\n\u001b[1;32m----> 1\u001b[0m lat2\u001b[38;5;241m.\u001b[39msort()\n",
      "\u001b[1;31mTypeError\u001b[0m: '<' not supported between instances of 'str' and 'int'"
     ]
    }
   ],
   "source": [
    "lat2.sort()"
   ]
  },
  {
   "cell_type": "code",
   "execution_count": 27,
   "id": "e0741048-cf12-43f7-8afc-e8761f36a738",
   "metadata": {
    "tags": []
   },
   "outputs": [],
   "source": [
    "lat2.remove('charusat')"
   ]
  },
  {
   "cell_type": "code",
   "execution_count": 28,
   "id": "0a3e56db-bfcc-4caf-94aa-28d9477993ff",
   "metadata": {
    "tags": []
   },
   "outputs": [
    {
     "name": "stdout",
     "output_type": "stream",
     "text": [
      "[0, 1, 2, 3, 4, 6, 7, 8, 9, 10, 12, 13, 14, 15, 16, 17, 18, 19, 300, 400, 500, 600, 700]\n"
     ]
    }
   ],
   "source": [
    "lat2.sort()\n",
    "print(lat2)"
   ]
  },
  {
   "cell_type": "code",
   "execution_count": 29,
   "id": "8e42cfad-83b5-4341-bcc9-6f2a3b7e33a2",
   "metadata": {
    "tags": []
   },
   "outputs": [
    {
     "name": "stdout",
     "output_type": "stream",
     "text": [
      "[700, 600, 500, 400, 300, 19, 18, 17, 16, 15, 14, 13, 12, 10, 9, 8, 7, 6, 4, 3, 2, 1, 0]\n"
     ]
    }
   ],
   "source": [
    "lat2.sort(reverse=True)\n",
    "print(lat2)"
   ]
  },
  {
   "cell_type": "code",
   "execution_count": 30,
   "id": "e6db0be1-85dd-4d1e-b059-38e5ca6f4c76",
   "metadata": {
    "tags": []
   },
   "outputs": [],
   "source": [
    "lst3=sorted(lat2)"
   ]
  },
  {
   "cell_type": "code",
   "execution_count": null,
   "id": "3b7e4d11-eff6-4669-b17f-674601d92e51",
   "metadata": {},
   "outputs": [],
   "source": []
  }
 ],
 "metadata": {
  "kernelspec": {
   "display_name": "Python 3 (ipykernel)",
   "language": "python",
   "name": "python3"
  },
  "language_info": {
   "codemirror_mode": {
    "name": "ipython",
    "version": 3
   },
   "file_extension": ".py",
   "mimetype": "text/x-python",
   "name": "python",
   "nbconvert_exporter": "python",
   "pygments_lexer": "ipython3",
   "version": "3.11.5"
  }
 },
 "nbformat": 4,
 "nbformat_minor": 5
}
