{
 "cells": [
  {
   "cell_type": "code",
   "execution_count": 1,
   "id": "0fcc3b81-21a1-4a8a-abe7-97358a4b56d1",
   "metadata": {
    "tags": []
   },
   "outputs": [],
   "source": [
    "l1=list(range(10))\n",
    "l1.append(100)"
   ]
  },
  {
   "cell_type": "code",
   "execution_count": 2,
   "id": "f19b65cd-a294-4122-adfa-de645b4c81b6",
   "metadata": {
    "tags": []
   },
   "outputs": [
    {
     "name": "stdout",
     "output_type": "stream",
     "text": [
      "[0, 1, 2, 3, 4, 5, 6, 7, 8, 9, 100]\n"
     ]
    }
   ],
   "source": [
    "print(l1)"
   ]
  },
  {
   "cell_type": "code",
   "execution_count": 5,
   "id": "524c08cd-7b36-421a-8412-9c15ae5b8079",
   "metadata": {
    "tags": []
   },
   "outputs": [
    {
     "name": "stdout",
     "output_type": "stream",
     "text": [
      "[0, 1, 2, 3, 4, 5, 6, 7, 8, 9, 100, 'apple', 'banana']\n"
     ]
    }
   ],
   "source": [
    "l2=[\"apple\",\"banana\"]\n",
    "l1.extend(l2)\n",
    "print(l1)"
   ]
  },
  {
   "cell_type": "code",
   "execution_count": 6,
   "id": "bac1e2bb-7168-4a66-a7ad-947c5ba37dfe",
   "metadata": {
    "tags": []
   },
   "outputs": [
    {
     "name": "stdout",
     "output_type": "stream",
     "text": [
      "[0, 1, 2, 3, 4, 5, 6, 7, 8, 9, 'apple', 'banana']\n"
     ]
    }
   ],
   "source": [
    "l1.remove(100)\n",
    "print(l1)"
   ]
  },
  {
   "cell_type": "code",
   "execution_count": 7,
   "id": "b376920a-f490-4806-b27d-30bf2bd5782e",
   "metadata": {
    "tags": []
   },
   "outputs": [],
   "source": [
    "l1.reverse()"
   ]
  },
  {
   "cell_type": "code",
   "execution_count": 8,
   "id": "ff9491df-2f19-4cb4-8876-18373d46d03c",
   "metadata": {
    "tags": []
   },
   "outputs": [
    {
     "name": "stdout",
     "output_type": "stream",
     "text": [
      "['banana', 'apple', 9, 8, 7, 6, 5, 4, 3, 2, 1, 0]\n"
     ]
    }
   ],
   "source": [
    "print(l1)"
   ]
  },
  {
   "cell_type": "code",
   "execution_count": 9,
   "id": "4d3407e9-d513-43f8-89aa-93727cb15346",
   "metadata": {
    "tags": []
   },
   "outputs": [
    {
     "name": "stdout",
     "output_type": "stream",
     "text": [
      "[9, 8, 7, 6, 5, 4, 3, 2, 1, 0]\n"
     ]
    }
   ],
   "source": [
    "l1.remove('banana')\n",
    "l1.remove('apple')\n",
    "print(l1)"
   ]
  },
  {
   "cell_type": "code",
   "execution_count": 10,
   "id": "d773b542-d232-4c43-9cca-1fc1487e728c",
   "metadata": {
    "tags": []
   },
   "outputs": [
    {
     "name": "stdout",
     "output_type": "stream",
     "text": [
      "[0, 1, 2, 3, 4, 5, 6, 7, 8, 9]\n"
     ]
    }
   ],
   "source": [
    "l1.sort()\n",
    "print(l1)"
   ]
  },
  {
   "cell_type": "code",
   "execution_count": 11,
   "id": "d320d9db-1395-43ed-ac8f-43cd2b3952c6",
   "metadata": {
    "tags": []
   },
   "outputs": [
    {
     "name": "stdout",
     "output_type": "stream",
     "text": [
      "[9, 8, 7, 6, 5, 4, 3, 2, 1, 0]\n"
     ]
    }
   ],
   "source": [
    "l1.sort(reverse=True)\n",
    "print(l1)"
   ]
  },
  {
   "cell_type": "code",
   "execution_count": 12,
   "id": "f1059384-3441-4184-b4fd-e84565833cbd",
   "metadata": {
    "tags": []
   },
   "outputs": [],
   "source": [
    " List1 = [1, 2, 3, 4, [\"python\", \"java\", \"c++\", [10,20,30]], 5, 6, 7, [\"apple\", \"banana\",\"orange\"]]"
   ]
  },
  {
   "cell_type": "code",
   "execution_count": 13,
   "id": "523558e6-a0d0-4b01-99e7-6702cd9cf0e0",
   "metadata": {
    "tags": []
   },
   "outputs": [
    {
     "name": "stdout",
     "output_type": "stream",
     "text": [
      "['apple', 'banana', 'orange']\n"
     ]
    }
   ],
   "source": [
    "print(List1[-1])"
   ]
  },
  {
   "cell_type": "code",
   "execution_count": 14,
   "id": "6ef15c33-4b02-4825-b2a8-e71db0c2eb8f",
   "metadata": {
    "tags": []
   },
   "outputs": [
    {
     "name": "stdout",
     "output_type": "stream",
     "text": [
      "orange\n"
     ]
    }
   ],
   "source": [
    "print(List1[-1][2])"
   ]
  },
  {
   "cell_type": "code",
   "execution_count": 15,
   "id": "2686e414-6bf5-4766-8b17-1a4fe1a91877",
   "metadata": {
    "tags": []
   },
   "outputs": [
    {
     "name": "stdout",
     "output_type": "stream",
     "text": [
      "python\n"
     ]
    }
   ],
   "source": [
    "print(List1[4][0])"
   ]
  },
  {
   "cell_type": "code",
   "execution_count": 16,
   "id": "7473c86d-a672-4408-acd5-e056a8a841b6",
   "metadata": {
    "tags": []
   },
   "outputs": [
    {
     "name": "stdout",
     "output_type": "stream",
     "text": [
      "[1, 2, 3, 4, ['python', 'java', 'c++', [10, 20, 30]], 5, 6, 7, ['apple', 'banana', 'orange'], 1, 2, 3, 4, ['python', 'java', 'c++', [10, 20, 30]], 5, 6, 7, ['apple', 'banana', 'orange'], 1, 2, 3, 4, ['python', 'java', 'c++', [10, 20, 30]], 5, 6, 7, ['apple', 'banana', 'orange'], 1, 2, 3, 4, ['python', 'java', 'c++', [10, 20, 30]], 5, 6, 7, ['apple', 'banana', 'orange'], 1, 2, 3, 4, ['python', 'java', 'c++', [10, 20, 30]], 5, 6, 7, ['apple', 'banana', 'orange']]\n"
     ]
    }
   ],
   "source": [
    "l5=List1*5\n",
    "print(l5)"
   ]
  },
  {
   "cell_type": "code",
   "execution_count": 17,
   "id": "35846252-279d-42af-9761-d53c29be86b7",
   "metadata": {
    "tags": []
   },
   "outputs": [
    {
     "name": "stdout",
     "output_type": "stream",
     "text": [
      "[0, 1, 2, 3, 4, 5]\n",
      "[0, 1, 2, 3, 4, 5]\n"
     ]
    }
   ],
   "source": [
    "list2=list(range(6))\n",
    "list3=list2[:]\n",
    "print(list2)\n",
    "print(list3)"
   ]
  },
  {
   "cell_type": "code",
   "execution_count": 18,
   "id": "2825cc20-35d0-4148-9d18-d43e83e9a5e9",
   "metadata": {
    "tags": []
   },
   "outputs": [
    {
     "name": "stdout",
     "output_type": "stream",
     "text": [
      "(5, 2, 5, 14, 10, 9)\n"
     ]
    }
   ],
   "source": [
    "t1=(5,2,5,14,10,9)\n",
    "print(t1)"
   ]
  },
  {
   "cell_type": "code",
   "execution_count": 19,
   "id": "75d0c8a9-1a29-46c2-bc86-31147bfd582e",
   "metadata": {
    "tags": []
   },
   "outputs": [
    {
     "name": "stdout",
     "output_type": "stream",
     "text": [
      "45\n"
     ]
    }
   ],
   "source": [
    "print(sum(t1))"
   ]
  },
  {
   "cell_type": "code",
   "execution_count": 20,
   "id": "c94d04d0-25e4-4e5f-b93a-28cfe932ca83",
   "metadata": {
    "tags": []
   },
   "outputs": [
    {
     "name": "stdout",
     "output_type": "stream",
     "text": [
      "14\n"
     ]
    }
   ],
   "source": [
    "print(max(t1))"
   ]
  },
  {
   "cell_type": "code",
   "execution_count": 21,
   "id": "a64e709c-ad81-4128-87da-5b608fe72189",
   "metadata": {
    "tags": []
   },
   "outputs": [
    {
     "name": "stdout",
     "output_type": "stream",
     "text": [
      "2\n"
     ]
    }
   ],
   "source": [
    "print(min(t1))"
   ]
  },
  {
   "cell_type": "code",
   "execution_count": 22,
   "id": "f94f6a19-4fad-4ecf-b5b0-9cdd52ba819a",
   "metadata": {
    "tags": []
   },
   "outputs": [
    {
     "name": "stdout",
     "output_type": "stream",
     "text": [
      "6\n"
     ]
    }
   ],
   "source": [
    "print(len(t1))"
   ]
  },
  {
   "cell_type": "code",
   "execution_count": 24,
   "id": "421a08af-d4aa-4874-909d-1a04679aa2aa",
   "metadata": {
    "tags": []
   },
   "outputs": [
    {
     "name": "stdout",
     "output_type": "stream",
     "text": [
      "7.5\n"
     ]
    }
   ],
   "source": [
    "print(sum(t1)/len(t1))"
   ]
  },
  {
   "cell_type": "code",
   "execution_count": null,
   "id": "3bf541a2-24e5-4ff0-b382-252a570aa888",
   "metadata": {},
   "outputs": [],
   "source": []
  }
 ],
 "metadata": {
  "kernelspec": {
   "display_name": "Python 3 (ipykernel)",
   "language": "python",
   "name": "python3"
  },
  "language_info": {
   "codemirror_mode": {
    "name": "ipython",
    "version": 3
   },
   "file_extension": ".py",
   "mimetype": "text/x-python",
   "name": "python",
   "nbconvert_exporter": "python",
   "pygments_lexer": "ipython3",
   "version": "3.11.5"
  }
 },
 "nbformat": 4,
 "nbformat_minor": 5
}
